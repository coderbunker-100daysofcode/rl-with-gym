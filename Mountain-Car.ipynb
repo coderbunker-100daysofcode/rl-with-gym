{
 "cells": [
  {
   "cell_type": "markdown",
   "metadata": {},
   "source": [
    "# Play MountainCar"
   ]
  },
  {
   "cell_type": "code",
   "execution_count": null,
   "metadata": {},
   "outputs": [],
   "source": [
    "import gym\n",
    "env = gym.make(\"MountainCar-v0\")"
   ]
  },
  {
   "cell_type": "code",
   "execution_count": null,
   "metadata": {},
   "outputs": [],
   "source": [
    "import gym\n",
    "env = gym.make('MountainCar-v0')\n",
    "for i_episode in range(20):\n",
    "    observation = env.reset()\n",
    "    for t in range(100):\n",
    "        env.render()\n",
    "        #print(observation)\n",
    "        action = 2\n",
    "        #action = env.action_space.sample()\n",
    "        observation, reward, done, info = env.step(action)\n",
    "        if done:\n",
    "            print(\"Episode finished after {} timesteps\".format(t+1))\n",
    "            break\n",
    "env.close()"
   ]
  },
  {
   "cell_type": "markdown",
   "metadata": {},
   "source": [
    "# Explore game environment"
   ]
  },
  {
   "cell_type": "code",
   "execution_count": null,
   "metadata": {},
   "outputs": [],
   "source": [
    "import numpy as np\n",
    "action_size = env.action_space.n #2: left / 1: right / 0:??\n",
    "state = env.observation_space\n",
    "print(action_size, state.shape)\n",
    "print(state.low, state.high)"
   ]
  },
  {
   "cell_type": "markdown",
   "metadata": {},
   "source": [
    "# Divide the environment into micro squares"
   ]
  },
  {
   "cell_type": "code",
   "execution_count": null,
   "metadata": {},
   "outputs": [],
   "source": [
    "import math\n",
    "\n",
    "state = env.observation_space\n",
    "x_step = (state.high[0] - state.low[0])/100\n",
    "y_step = (state.high[1] - state.low[1])/100\n",
    "print(\"(x_step, y_step) = \", x_step, y_step)\n",
    "x_range = [state.low[0] + j * x_step for j in range(100)]\n",
    "y_range = [state.low[1] + j * y_step for j in range(100)]\n",
    "def find_square(x, y):\n",
    "    state = env.observation_space\n",
    "    if x > state.high[0] or x < state.low[0]:\n",
    "        raise IndexError\n",
    "    if y > state.high[1] or y < state.low[1]:\n",
    "        raise IndexError\n",
    "    i = len(x_range) - 1\n",
    "    while (x < x_range[i] and i > 0):\n",
    "        i -= 1\n",
    "    j = len(y_range) - 1\n",
    "    while (y < y_range[j] and j > 0):\n",
    "        j -= 1\n",
    "    return (i, j)\n",
    "\n",
    "speed_range = 10\n",
    "def find_speed(speed):\n",
    "    if speed < 0 or speed > speed_range:\n",
    "        raise IndexError(speed)\n",
    "    return math.ceil(speed/speed_range * speed_range)\n",
    "\n",
    "qtable = np.zeros((len(x_range) , len(y_range), speed_range, action_size))\n",
    "qtable.shape"
   ]
  },
  {
   "cell_type": "markdown",
   "metadata": {},
   "source": [
    "# Train the model"
   ]
  },
  {
   "cell_type": "code",
   "execution_count": null,
   "metadata": {},
   "outputs": [],
   "source": [
    "import random\n",
    "import math\n",
    "# List of rewards\n",
    "rewards = []\n",
    "\n",
    "total_episodes = 6000       # Total episodes\n",
    "learning_rate = 0.7        # Learning rate\n",
    "max_steps = 999             # Max steps per episode\n",
    "gamma = 0.9                 # Discounting rate\n",
    "\n",
    "# Exploration parameters\n",
    "epsilon = 1.0                 # Exploration rate\n",
    "max_epsilon = 1.0             # Exploration probability at start\n",
    "min_epsilon = 0.01            # Minimum exploration probability \n",
    "decay_rate = 0.005            # Exponential decay rate for exploration prob\n",
    "\n",
    "# 2 For life or until learning is stopped\n",
    "for episode in range(total_episodes):\n",
    "    # Reset the environment\n",
    "    state = env.reset()\n",
    "    state = find_square(state[0], state[1])\n",
    "    grad = [0 , 0]\n",
    "    speed_state = 0\n",
    "    max_x = min_x = state[0]\n",
    "    max_y = min_y = state[1]\n",
    "    step = 0\n",
    "    done = False\n",
    "    total_rewards = 0\n",
    "    max_right = state[0]\n",
    "    \n",
    "    for step in range(max_steps):\n",
    "        # 3. Choose an action a in the current world state (s)\n",
    "        ## First we randomize a number\n",
    "        exp_exp_tradeoff = random.uniform(0, 1)\n",
    "        \n",
    "        ## If this number > greater than epsilon --> exploitation (taking the biggest Q value for this state)\n",
    "        if exp_exp_tradeoff > epsilon:\n",
    "            action = np.argmax(qtable[state[0], state[1], speed_state,:])\n",
    "            #print(exp_exp_tradeoff, \"action\", action)\n",
    "\n",
    "        # Else doing a random choice --> exploration\n",
    "        else:\n",
    "            action = env.action_space.sample()\n",
    "            #print(\"action random\", action)\n",
    "        \n",
    "        if action > 2:\n",
    "            print(\"c'est bizarre\", action)\n",
    "        # Take the action (a) and observe the outcome state(s') and reward (r)\n",
    "        \n",
    "        new_state, reward, done, info = env.step(action)\n",
    "        new_state = find_square(new_state[0], new_state[1])\n",
    "        \n",
    "        grad[0] += (new_state[0] - state[0])\n",
    "        grad[1] += (new_state[1] - state[1])\n",
    "        speed = math.pow(grad[0], 2) + math.pow(grad[1], 2)\n",
    "        speed = min(speed, speed_range - 1)\n",
    "        speed_state = find_speed(speed)\n",
    "        total_rewards += reward\n",
    "        if reward == -1:\n",
    "            if new_state[0] > max_right:\n",
    "                reward = 5 * speed_state\n",
    "                max_right = new_state[0]\n",
    "            else:\n",
    "                reward = speed_state\n",
    "        \n",
    "        # Update Q(s,a):= Q(s,a) + lr [R(s,a) + gamma * max Q(s',a') - Q(s,a)]\n",
    "        qtable[state[0], state[1], speed_state, action] += learning_rate * (reward + gamma * np.max(qtable[new_state[0], new_state[1], speed_state, :]) - qtable[state[0], state[1], speed_state, action])\n",
    "        \n",
    "        # Our new state is state\n",
    "        state = new_state\n",
    "        \n",
    "        # If done (if we're dead) : finish episode\n",
    "        if done == True:\n",
    "            break\n",
    "        \n",
    "    # Reduce epsilon (because we need less and less exploration)\n",
    "    epsilon = min_epsilon + (max_epsilon - min_epsilon)*np.exp(-decay_rate*episode) \n",
    "    rewards.append(total_rewards)\n",
    "    \n",
    "\n",
    "print (\"Score over time: \" +  str(sum(rewards)/total_episodes))\n",
    "print(np.min(qtable))"
   ]
  },
  {
   "cell_type": "markdown",
   "metadata": {},
   "source": [
    "# Play the game"
   ]
  },
  {
   "cell_type": "code",
   "execution_count": null,
   "metadata": {},
   "outputs": [],
   "source": [
    "env.reset()\n",
    "\n",
    "for episode in range(5):\n",
    "    state = env.reset()\n",
    "    state = find_square(state[0], state[1])\n",
    "    grad = [0 , 0]\n",
    "    #state = (90, 72)\n",
    "    step = 0\n",
    "    speed_state = 0\n",
    "    done = False\n",
    "    print(\"****************************************************\")\n",
    "    print(\"EPISODE \", episode)\n",
    "\n",
    "    for step in range(max_steps):\n",
    "        \n",
    "        # Take the action (index) that have the maximum expected future reward given that state\n",
    "        action = np.argmax(qtable[state[0], state[1], speed_state,:])\n",
    "        #action = 2\n",
    "        \n",
    "        new_state, reward, done, info = env.step(action)\n",
    "        new_state = find_square(new_state[0], new_state[1])\n",
    "        \n",
    "        grad[0] += (new_state[0] - state[0])\n",
    "        grad[1] += (new_state[1] - state[1])\n",
    "        speed = math.pow(grad[0], 2) + math.pow(grad[1], 2)\n",
    "        speed = min(speed, speed_range - 1)\n",
    "        speed_state = find_speed(speed)\n",
    "        env.render()\n",
    "        if done:\n",
    "            env.render()\n",
    "            print(new_state)\n",
    "            print(\"reward:\", reward)\n",
    "            print(\"Number of steps\", step)\n",
    "            \n",
    "            break\n",
    "        state = new_state\n",
    "env.close()"
   ]
  }
 ],
 "metadata": {
  "kernelspec": {
   "display_name": "Python 3",
   "language": "python",
   "name": "python3"
  },
  "language_info": {
   "codemirror_mode": {
    "name": "ipython",
    "version": 3
   },
   "file_extension": ".py",
   "mimetype": "text/x-python",
   "name": "python",
   "nbconvert_exporter": "python",
   "pygments_lexer": "ipython3",
   "version": "3.7.1"
  }
 },
 "nbformat": 4,
 "nbformat_minor": 2
}
